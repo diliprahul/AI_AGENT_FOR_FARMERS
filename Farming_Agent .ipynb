{
  "nbformat": 4,
  "nbformat_minor": 0,
  "metadata": {
    "colab": {
      "provenance": []
    },
    "kernelspec": {
      "name": "python3",
      "display_name": "Python 3"
    },
    "language_info": {
      "name": "python"
    }
  },
  "cells": [
    {
      "cell_type": "markdown",
      "source": [
        "1. Install Required Packages"
      ],
      "metadata": {
        "id": "i0atSuaM9XHC"
      }
    },
    {
      "cell_type": "code",
      "execution_count": 31,
      "metadata": {
        "colab": {
          "base_uri": "https://localhost:8080/"
        },
        "id": "6uNI2auH8skD",
        "outputId": "d1d2d412-05e7-4a65-d608-789f3c535f5d"
      },
      "outputs": [
        {
          "output_type": "stream",
          "name": "stdout",
          "text": [
            "Requirement already satisfied: replicate in /usr/local/lib/python3.11/dist-packages (1.0.7)\n",
            "Requirement already satisfied: duckduckgo-search in /usr/local/lib/python3.11/dist-packages (8.1.1)\n",
            "Requirement already satisfied: gradio in /usr/local/lib/python3.11/dist-packages (5.41.0)\n",
            "Requirement already satisfied: httpx<1,>=0.21.0 in /usr/local/lib/python3.11/dist-packages (from replicate) (0.28.1)\n",
            "Requirement already satisfied: packaging in /usr/local/lib/python3.11/dist-packages (from replicate) (25.0)\n",
            "Requirement already satisfied: pydantic>1.10.7 in /usr/local/lib/python3.11/dist-packages (from replicate) (2.11.7)\n",
            "Requirement already satisfied: typing_extensions>=4.5.0 in /usr/local/lib/python3.11/dist-packages (from replicate) (4.14.1)\n",
            "Requirement already satisfied: click>=8.1.8 in /usr/local/lib/python3.11/dist-packages (from duckduckgo-search) (8.2.1)\n",
            "Requirement already satisfied: primp>=0.15.0 in /usr/local/lib/python3.11/dist-packages (from duckduckgo-search) (0.15.0)\n",
            "Requirement already satisfied: lxml>=5.3.0 in /usr/local/lib/python3.11/dist-packages (from duckduckgo-search) (5.4.0)\n",
            "Requirement already satisfied: aiofiles<25.0,>=22.0 in /usr/local/lib/python3.11/dist-packages (from gradio) (24.1.0)\n",
            "Requirement already satisfied: anyio<5.0,>=3.0 in /usr/local/lib/python3.11/dist-packages (from gradio) (4.10.0)\n",
            "Requirement already satisfied: brotli>=1.1.0 in /usr/local/lib/python3.11/dist-packages (from gradio) (1.1.0)\n",
            "Requirement already satisfied: fastapi<1.0,>=0.115.2 in /usr/local/lib/python3.11/dist-packages (from gradio) (0.116.1)\n",
            "Requirement already satisfied: ffmpy in /usr/local/lib/python3.11/dist-packages (from gradio) (0.6.1)\n",
            "Requirement already satisfied: gradio-client==1.11.0 in /usr/local/lib/python3.11/dist-packages (from gradio) (1.11.0)\n",
            "Requirement already satisfied: groovy~=0.1 in /usr/local/lib/python3.11/dist-packages (from gradio) (0.1.2)\n",
            "Requirement already satisfied: huggingface-hub<1.0,>=0.33.5 in /usr/local/lib/python3.11/dist-packages (from gradio) (0.34.3)\n",
            "Requirement already satisfied: jinja2<4.0 in /usr/local/lib/python3.11/dist-packages (from gradio) (3.1.6)\n",
            "Requirement already satisfied: markupsafe<4.0,>=2.0 in /usr/local/lib/python3.11/dist-packages (from gradio) (3.0.2)\n",
            "Requirement already satisfied: numpy<3.0,>=1.0 in /usr/local/lib/python3.11/dist-packages (from gradio) (2.0.2)\n",
            "Requirement already satisfied: orjson~=3.0 in /usr/local/lib/python3.11/dist-packages (from gradio) (3.11.1)\n",
            "Requirement already satisfied: pandas<3.0,>=1.0 in /usr/local/lib/python3.11/dist-packages (from gradio) (2.2.2)\n",
            "Requirement already satisfied: pillow<12.0,>=8.0 in /usr/local/lib/python3.11/dist-packages (from gradio) (11.3.0)\n",
            "Requirement already satisfied: pydub in /usr/local/lib/python3.11/dist-packages (from gradio) (0.25.1)\n",
            "Requirement already satisfied: python-multipart>=0.0.18 in /usr/local/lib/python3.11/dist-packages (from gradio) (0.0.20)\n",
            "Requirement already satisfied: pyyaml<7.0,>=5.0 in /usr/local/lib/python3.11/dist-packages (from gradio) (6.0.2)\n",
            "Requirement already satisfied: ruff>=0.9.3 in /usr/local/lib/python3.11/dist-packages (from gradio) (0.12.7)\n",
            "Requirement already satisfied: safehttpx<0.2.0,>=0.1.6 in /usr/local/lib/python3.11/dist-packages (from gradio) (0.1.6)\n",
            "Requirement already satisfied: semantic-version~=2.0 in /usr/local/lib/python3.11/dist-packages (from gradio) (2.10.0)\n",
            "Requirement already satisfied: starlette<1.0,>=0.40.0 in /usr/local/lib/python3.11/dist-packages (from gradio) (0.47.2)\n",
            "Requirement already satisfied: tomlkit<0.14.0,>=0.12.0 in /usr/local/lib/python3.11/dist-packages (from gradio) (0.13.3)\n",
            "Requirement already satisfied: typer<1.0,>=0.12 in /usr/local/lib/python3.11/dist-packages (from gradio) (0.16.0)\n",
            "Requirement already satisfied: uvicorn>=0.14.0 in /usr/local/lib/python3.11/dist-packages (from gradio) (0.35.0)\n",
            "Requirement already satisfied: fsspec in /usr/local/lib/python3.11/dist-packages (from gradio-client==1.11.0->gradio) (2025.3.0)\n",
            "Requirement already satisfied: websockets<16.0,>=10.0 in /usr/local/lib/python3.11/dist-packages (from gradio-client==1.11.0->gradio) (15.0.1)\n",
            "Requirement already satisfied: idna>=2.8 in /usr/local/lib/python3.11/dist-packages (from anyio<5.0,>=3.0->gradio) (3.10)\n",
            "Requirement already satisfied: sniffio>=1.1 in /usr/local/lib/python3.11/dist-packages (from anyio<5.0,>=3.0->gradio) (1.3.1)\n",
            "Requirement already satisfied: certifi in /usr/local/lib/python3.11/dist-packages (from httpx<1,>=0.21.0->replicate) (2025.8.3)\n",
            "Requirement already satisfied: httpcore==1.* in /usr/local/lib/python3.11/dist-packages (from httpx<1,>=0.21.0->replicate) (1.0.9)\n",
            "Requirement already satisfied: h11>=0.16 in /usr/local/lib/python3.11/dist-packages (from httpcore==1.*->httpx<1,>=0.21.0->replicate) (0.16.0)\n",
            "Requirement already satisfied: filelock in /usr/local/lib/python3.11/dist-packages (from huggingface-hub<1.0,>=0.33.5->gradio) (3.18.0)\n",
            "Requirement already satisfied: requests in /usr/local/lib/python3.11/dist-packages (from huggingface-hub<1.0,>=0.33.5->gradio) (2.32.3)\n",
            "Requirement already satisfied: tqdm>=4.42.1 in /usr/local/lib/python3.11/dist-packages (from huggingface-hub<1.0,>=0.33.5->gradio) (4.67.1)\n",
            "Requirement already satisfied: hf-xet<2.0.0,>=1.1.3 in /usr/local/lib/python3.11/dist-packages (from huggingface-hub<1.0,>=0.33.5->gradio) (1.1.7)\n",
            "Requirement already satisfied: python-dateutil>=2.8.2 in /usr/local/lib/python3.11/dist-packages (from pandas<3.0,>=1.0->gradio) (2.9.0.post0)\n",
            "Requirement already satisfied: pytz>=2020.1 in /usr/local/lib/python3.11/dist-packages (from pandas<3.0,>=1.0->gradio) (2025.2)\n",
            "Requirement already satisfied: tzdata>=2022.7 in /usr/local/lib/python3.11/dist-packages (from pandas<3.0,>=1.0->gradio) (2025.2)\n",
            "Requirement already satisfied: annotated-types>=0.6.0 in /usr/local/lib/python3.11/dist-packages (from pydantic>1.10.7->replicate) (0.7.0)\n",
            "Requirement already satisfied: pydantic-core==2.33.2 in /usr/local/lib/python3.11/dist-packages (from pydantic>1.10.7->replicate) (2.33.2)\n",
            "Requirement already satisfied: typing-inspection>=0.4.0 in /usr/local/lib/python3.11/dist-packages (from pydantic>1.10.7->replicate) (0.4.1)\n",
            "Requirement already satisfied: shellingham>=1.3.0 in /usr/local/lib/python3.11/dist-packages (from typer<1.0,>=0.12->gradio) (1.5.4)\n",
            "Requirement already satisfied: rich>=10.11.0 in /usr/local/lib/python3.11/dist-packages (from typer<1.0,>=0.12->gradio) (13.9.4)\n",
            "Requirement already satisfied: six>=1.5 in /usr/local/lib/python3.11/dist-packages (from python-dateutil>=2.8.2->pandas<3.0,>=1.0->gradio) (1.17.0)\n",
            "Requirement already satisfied: markdown-it-py>=2.2.0 in /usr/local/lib/python3.11/dist-packages (from rich>=10.11.0->typer<1.0,>=0.12->gradio) (3.0.0)\n",
            "Requirement already satisfied: pygments<3.0.0,>=2.13.0 in /usr/local/lib/python3.11/dist-packages (from rich>=10.11.0->typer<1.0,>=0.12->gradio) (2.19.2)\n",
            "Requirement already satisfied: charset-normalizer<4,>=2 in /usr/local/lib/python3.11/dist-packages (from requests->huggingface-hub<1.0,>=0.33.5->gradio) (3.4.2)\n",
            "Requirement already satisfied: urllib3<3,>=1.21.1 in /usr/local/lib/python3.11/dist-packages (from requests->huggingface-hub<1.0,>=0.33.5->gradio) (2.5.0)\n",
            "Requirement already satisfied: mdurl~=0.1 in /usr/local/lib/python3.11/dist-packages (from markdown-it-py>=2.2.0->rich>=10.11.0->typer<1.0,>=0.12->gradio) (0.1.2)\n"
          ]
        }
      ],
      "source": [
        "!pip install replicate duckduckgo-search gradio\n"
      ]
    },
    {
      "cell_type": "markdown",
      "source": [
        "2. Import Libraries and Set Up Clients"
      ],
      "metadata": {
        "id": "f18xF5KS9dFK"
      }
    },
    {
      "cell_type": "code",
      "source": [
        "import replicate\n",
        "from duckduckgo_search import DDGS\n",
        "\n",
        "# Paste your Replicate API key here (from Replicate dashboard)\n",
        "REPLICATE_API_TOKEN = \"r8_7DKzIp8QC452KxIBwZ0bzZ07ujHZj0O4ItIeK\"\n",
        "client = replicate.Client(api_token=REPLICATE_API_TOKEN)\n"
      ],
      "metadata": {
        "id": "JN9lChoL9EaB"
      },
      "execution_count": 32,
      "outputs": []
    },
    {
      "cell_type": "markdown",
      "source": [
        "3. Optional: Search Function\n"
      ],
      "metadata": {
        "id": "Q5D_TgKC9fv0"
      }
    },
    {
      "cell_type": "code",
      "source": [
        "def search_duckduckgo(query):\n",
        "    with DDGS() as ddgs:\n",
        "        results = ddgs.text(query, max_results=3)\n",
        "        return \"\\n\".join([f\"- {r['title']}: {r['href']}\" for r in results])\n"
      ],
      "metadata": {
        "id": "VUK8eCqP9L6X"
      },
      "execution_count": 33,
      "outputs": []
    },
    {
      "cell_type": "markdown",
      "source": [
        "4. LLM Query Function (IBM Granite 3‑3.8B)"
      ],
      "metadata": {
        "id": "Ntq_AykG9jL5"
      }
    },
    {
      "cell_type": "code",
      "source": [
        "def query_replicate(prompt):\n",
        "    # Force IBM Granite 3.3-8B Instruct model usage\n",
        "    output = client.run(\n",
        "        \"ibm-granite/granite-3.3-8b-instruct\",\n",
        "        input={\"prompt\": prompt, \"max_new_tokens\": 300}\n",
        "    )\n",
        "    return \"\".join(output)\n"
      ],
      "metadata": {
        "id": "KG-oyYC19PTL"
      },
      "execution_count": 34,
      "outputs": []
    },
    {
      "cell_type": "markdown",
      "source": [
        "5.Define Agent Roles"
      ],
      "metadata": {
        "id": "JJhrhWWm9m03"
      }
    },
    {
      "cell_type": "markdown",
      "source": [
        "a. Crop Advisor Agent"
      ],
      "metadata": {
        "id": "BK3VVQrV9pql"
      }
    },
    {
      "cell_type": "code",
      "source": [
        "def crop_advisor_agent(prompt):\n",
        "    system_prompt = (\n",
        "        \"You are a smart agricultural crop advisor. Provide detailed crop selection \"\n",
        "        \"and crop health advice based on soil, weather, and market trends.\"\n",
        "    )\n",
        "    return query_replicate(f\"{system_prompt}\\n\\nUser: {prompt}\")\n"
      ],
      "metadata": {
        "id": "Nl2Pfg289sdU"
      },
      "execution_count": 35,
      "outputs": []
    },
    {
      "cell_type": "markdown",
      "source": [
        "b. Weather & Irrigation Agent"
      ],
      "metadata": {
        "id": "D6v_LnrM9yLy"
      }
    },
    {
      "cell_type": "code",
      "source": [
        "def weather_irrigation_agent(prompt):\n",
        "    system_prompt = (\n",
        "        \"You are an AI weather and irrigation expert. Suggest irrigation schedules, \"\n",
        "        \"weather precaution alerts, and field preparation advice based on current and forecasted conditions.\"\n",
        "    )\n",
        "    return query_replicate(f\"{system_prompt}\\n\\nUser: {prompt}\")\n"
      ],
      "metadata": {
        "id": "qzxosLug9y1q"
      },
      "execution_count": 36,
      "outputs": []
    },
    {
      "cell_type": "markdown",
      "source": [
        "c. Pest and Disease Detection Agent"
      ],
      "metadata": {
        "id": "w-Qf9dnE91Th"
      }
    },
    {
      "cell_type": "code",
      "source": [
        "def pest_disease_agent(prompt):\n",
        "    system_prompt = (\n",
        "        \"You are an agriculture diagnostic AI. Identify likely pests or diseases from \"\n",
        "        \"user-provided farm observations and suggest preventive and curative measures.\"\n",
        "    )\n",
        "    return query_replicate(f\"{system_prompt}\\n\\nUser: {prompt}\")\n"
      ],
      "metadata": {
        "id": "CWTxuFUv907S"
      },
      "execution_count": 37,
      "outputs": []
    },
    {
      "cell_type": "markdown",
      "source": [
        "d. Price/Market Info Agent (Approximate Values)"
      ],
      "metadata": {
        "id": "U1y_2xSsTGTm"
      }
    },
    {
      "cell_type": "code",
      "source": [
        "def price_agent(prompt):\n",
        "    system_prompt = (\n",
        "        \"You are an agricultural market analyst. Estimate the approximate or nearest mandi price \"\n",
        "        \"for the mentioned crop or vegetable based on recent trends from typical markets. \"\n",
        "        \"Include a disclaimer that the value is approximate and varies by region and market conditions.\"\n",
        "    )\n",
        "    return query_replicate(f\"{system_prompt}\\n\\nUser: {prompt}\")\n"
      ],
      "metadata": {
        "id": "CThZIFrZTEPX"
      },
      "execution_count": 38,
      "outputs": []
    },
    {
      "cell_type": "markdown",
      "source": [
        "6.Routing User Queries"
      ],
      "metadata": {
        "id": "4UBPZ9FR-DTM"
      }
    },
    {
      "cell_type": "code",
      "source": [
        "def smart_farming_router(user_prompt):\n",
        "    crop_keywords = [\"crop\", \"plant\", \"harvest\", \"yield\", \"seed\", \"fertilizer\"]\n",
        "    weather_keywords = [\"weather\", \"rain\", \"temperature\", \"irrigation\", \"moisture\", \"water\", \"climate\"]\n",
        "    pest_keywords = [\"pest\", \"disease\", \"fungus\", \"insect\", \"infestation\", \"blight\", \"mite\"]\n",
        "    price_keywords = [\"price\", \"market\", \"mandi\", \"vegetable price\", \"cost\", \"rate\"]\n",
        "\n",
        "    prompt_lower = user_prompt.lower()\n",
        "\n",
        "    if any(word in prompt_lower for word in crop_keywords):\n",
        "        return crop_advisor_agent(user_prompt)\n",
        "    elif any(word in prompt_lower for word in weather_keywords):\n",
        "        return weather_irrigation_agent(user_prompt)\n",
        "    elif any(word in prompt_lower for word in pest_keywords):\n",
        "        return pest_disease_agent(user_prompt)\n",
        "    elif any(word in prompt_lower for word in price_keywords):\n",
        "        return price_agent(user_prompt)\n",
        "    else:\n",
        "        return \"🌱 Please specify if you want crop advice, weather/irrigation help, pest/disease diagnosis, or market price info.\"\n"
      ],
      "metadata": {
        "id": "3tiNW84Z92Gb"
      },
      "execution_count": 39,
      "outputs": []
    },
    {
      "cell_type": "markdown",
      "source": [
        "7. Gradio App Interface"
      ],
      "metadata": {
        "id": "ju0_XFWYFsgC"
      }
    },
    {
      "cell_type": "code",
      "source": [
        "import gradio as gr\n",
        "\n",
        "def gradio_interface(user_prompt):\n",
        "    return smart_farming_router(user_prompt)\n",
        "\n",
        "app = gr.Interface(\n",
        "    fn=gradio_interface,\n",
        "    inputs=gr.Textbox(lines=2, label=\"Enter your farming question (crops, weather, pests, prices…)\"),\n",
        "    outputs=gr.Textbox(label=\"Smart Farming AI Response\"),\n",
        "    title=\"Smart Farming AI Agent\",\n",
        "    description=\"An AI agent that provides crop advice, weather & irrigation tips, pest diagnosis, and approximate market prices. Powered by IBM Granite model via Replicate.\"\n",
        ")\n",
        "\n",
        "app.launch()\n"
      ],
      "metadata": {
        "colab": {
          "base_uri": "https://localhost:8080/",
          "height": 646
        },
        "id": "VO5kZy3uF4UN",
        "outputId": "0b22197c-792e-4752-fb24-bebc99902f32"
      },
      "execution_count": 40,
      "outputs": [
        {
          "output_type": "stream",
          "name": "stdout",
          "text": [
            "It looks like you are running Gradio on a hosted Jupyter notebook, which requires `share=True`. Automatically setting `share=True` (you can turn this off by setting `share=False` in `launch()` explicitly).\n",
            "\n",
            "Colab notebook detected. To show errors in colab notebook, set debug=True in launch()\n",
            "* Running on public URL: https://6c922c883ff22cf5ea.gradio.live\n",
            "\n",
            "This share link expires in 1 week. For free permanent hosting and GPU upgrades, run `gradio deploy` from the terminal in the working directory to deploy to Hugging Face Spaces (https://huggingface.co/spaces)\n"
          ]
        },
        {
          "output_type": "display_data",
          "data": {
            "text/plain": [
              "<IPython.core.display.HTML object>"
            ],
            "text/html": [
              "<div><iframe src=\"https://6c922c883ff22cf5ea.gradio.live\" width=\"100%\" height=\"500\" allow=\"autoplay; camera; microphone; clipboard-read; clipboard-write;\" frameborder=\"0\" allowfullscreen></iframe></div>"
            ]
          },
          "metadata": {}
        },
        {
          "output_type": "execute_result",
          "data": {
            "text/plain": []
          },
          "metadata": {},
          "execution_count": 40
        }
      ]
    }
  ]
}
