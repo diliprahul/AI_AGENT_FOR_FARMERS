{
  "nbformat": 4,
  "nbformat_minor": 0,
  "metadata": {
    "colab": {
      "provenance": []
    },
    "kernelspec": {
      "name": "python3",
      "display_name": "Python 3"
    },
    "language_info": {
      "name": "python"
    }
  },
  "cells": [
    {
      "cell_type": "markdown",
      "source": [
        "1. Install Required Packages"
      ],
      "metadata": {
        "id": "i0atSuaM9XHC"
      }
    },
    {
      "cell_type": "code",
      "execution_count": 1,
      "metadata": {
        "colab": {
          "base_uri": "https://localhost:8080/"
        },
        "id": "6uNI2auH8skD",
        "outputId": "2b62121a-89fc-4907-ee56-8907d26e5aee"
      },
      "outputs": [
        {
          "output_type": "stream",
          "name": "stdout",
          "text": [
            "Collecting replicate\n",
            "  Downloading replicate-1.0.7-py3-none-any.whl.metadata (29 kB)\n",
            "Collecting duckduckgo-search\n",
            "  Downloading duckduckgo_search-8.1.1-py3-none-any.whl.metadata (16 kB)\n",
            "Requirement already satisfied: httpx<1,>=0.21.0 in /usr/local/lib/python3.11/dist-packages (from replicate) (0.28.1)\n",
            "Requirement already satisfied: packaging in /usr/local/lib/python3.11/dist-packages (from replicate) (25.0)\n",
            "Requirement already satisfied: pydantic>1.10.7 in /usr/local/lib/python3.11/dist-packages (from replicate) (2.11.7)\n",
            "Requirement already satisfied: typing_extensions>=4.5.0 in /usr/local/lib/python3.11/dist-packages (from replicate) (4.14.1)\n",
            "Requirement already satisfied: click>=8.1.8 in /usr/local/lib/python3.11/dist-packages (from duckduckgo-search) (8.2.1)\n",
            "Collecting primp>=0.15.0 (from duckduckgo-search)\n",
            "  Downloading primp-0.15.0-cp38-abi3-manylinux_2_17_x86_64.manylinux2014_x86_64.whl.metadata (13 kB)\n",
            "Requirement already satisfied: lxml>=5.3.0 in /usr/local/lib/python3.11/dist-packages (from duckduckgo-search) (5.4.0)\n",
            "Requirement already satisfied: anyio in /usr/local/lib/python3.11/dist-packages (from httpx<1,>=0.21.0->replicate) (4.10.0)\n",
            "Requirement already satisfied: certifi in /usr/local/lib/python3.11/dist-packages (from httpx<1,>=0.21.0->replicate) (2025.8.3)\n",
            "Requirement already satisfied: httpcore==1.* in /usr/local/lib/python3.11/dist-packages (from httpx<1,>=0.21.0->replicate) (1.0.9)\n",
            "Requirement already satisfied: idna in /usr/local/lib/python3.11/dist-packages (from httpx<1,>=0.21.0->replicate) (3.10)\n",
            "Requirement already satisfied: h11>=0.16 in /usr/local/lib/python3.11/dist-packages (from httpcore==1.*->httpx<1,>=0.21.0->replicate) (0.16.0)\n",
            "Requirement already satisfied: annotated-types>=0.6.0 in /usr/local/lib/python3.11/dist-packages (from pydantic>1.10.7->replicate) (0.7.0)\n",
            "Requirement already satisfied: pydantic-core==2.33.2 in /usr/local/lib/python3.11/dist-packages (from pydantic>1.10.7->replicate) (2.33.2)\n",
            "Requirement already satisfied: typing-inspection>=0.4.0 in /usr/local/lib/python3.11/dist-packages (from pydantic>1.10.7->replicate) (0.4.1)\n",
            "Requirement already satisfied: sniffio>=1.1 in /usr/local/lib/python3.11/dist-packages (from anyio->httpx<1,>=0.21.0->replicate) (1.3.1)\n",
            "Downloading replicate-1.0.7-py3-none-any.whl (48 kB)\n",
            "\u001b[2K   \u001b[90m━━━━━━━━━━━━━━━━━━━━━━━━━━━━━━━━━━━━━━━━\u001b[0m \u001b[32m48.6/48.6 kB\u001b[0m \u001b[31m2.6 MB/s\u001b[0m eta \u001b[36m0:00:00\u001b[0m\n",
            "\u001b[?25hDownloading duckduckgo_search-8.1.1-py3-none-any.whl (18 kB)\n",
            "Downloading primp-0.15.0-cp38-abi3-manylinux_2_17_x86_64.manylinux2014_x86_64.whl (3.3 MB)\n",
            "\u001b[2K   \u001b[90m━━━━━━━━━━━━━━━━━━━━━━━━━━━━━━━━━━━━━━━━\u001b[0m \u001b[32m3.3/3.3 MB\u001b[0m \u001b[31m40.4 MB/s\u001b[0m eta \u001b[36m0:00:00\u001b[0m\n",
            "\u001b[?25hInstalling collected packages: primp, duckduckgo-search, replicate\n",
            "Successfully installed duckduckgo-search-8.1.1 primp-0.15.0 replicate-1.0.7\n"
          ]
        }
      ],
      "source": [
        "!pip install replicate duckduckgo-search"
      ]
    },
    {
      "cell_type": "markdown",
      "source": [
        "2. Import Libraries and Set Up Clients"
      ],
      "metadata": {
        "id": "f18xF5KS9dFK"
      }
    },
    {
      "cell_type": "code",
      "source": [
        "import replicate\n",
        "from duckduckgo_search import DDGS\n",
        "\n",
        "# Insert your Replicate API token here\n",
        "REPLICATE_API_TOKEN = \"r8_8gMwvz4Bl6gOW5hn0F229v1I3LRu6yz2Hn2tO\"\n",
        "client = replicate.Client(api_token=REPLICATE_API_TOKEN)\n"
      ],
      "metadata": {
        "id": "JN9lChoL9EaB"
      },
      "execution_count": 2,
      "outputs": []
    },
    {
      "cell_type": "markdown",
      "source": [
        "3. Optional: Search Function\n"
      ],
      "metadata": {
        "id": "Q5D_TgKC9fv0"
      }
    },
    {
      "cell_type": "code",
      "source": [
        "def search_duckduckgo(query):\n",
        "    with DDGS() as ddgs:\n",
        "        results = ddgs.text(query, max_results=3)\n",
        "        return \"\\n\".join([f\"- {r['title']}: {r['href']}\" for r in results])\n"
      ],
      "metadata": {
        "id": "VUK8eCqP9L6X"
      },
      "execution_count": 3,
      "outputs": []
    },
    {
      "cell_type": "markdown",
      "source": [
        "4. Replicate Query Function"
      ],
      "metadata": {
        "id": "Ntq_AykG9jL5"
      }
    },
    {
      "cell_type": "code",
      "source": [
        "def query_replicate(prompt, model=\"ibm-granite/granite-3.3-8b-instruct\"):\n",
        "    output = client.run(model, input={\"prompt\": prompt, \"max_new_tokens\": 300})\n",
        "    return \"\".join(output)\n"
      ],
      "metadata": {
        "id": "KG-oyYC19PTL"
      },
      "execution_count": 4,
      "outputs": []
    },
    {
      "cell_type": "markdown",
      "source": [
        "5. Define Agent Roles"
      ],
      "metadata": {
        "id": "JJhrhWWm9m03"
      }
    },
    {
      "cell_type": "markdown",
      "source": [
        "a. Crop Advisor Agent"
      ],
      "metadata": {
        "id": "BK3VVQrV9pql"
      }
    },
    {
      "cell_type": "code",
      "source": [
        "def crop_advisor_agent(prompt):\n",
        "    system_prompt = \"You are a smart crop advisor. Give crop selection and health advice based on soil, weather, and market info.\"\n",
        "    return query_replicate(f\"{system_prompt}\\n\\nUser: {prompt}\")\n"
      ],
      "metadata": {
        "id": "Nl2Pfg289sdU"
      },
      "execution_count": 5,
      "outputs": []
    },
    {
      "cell_type": "markdown",
      "source": [
        "b. Weather & Irrigation Agent"
      ],
      "metadata": {
        "id": "D6v_LnrM9yLy"
      }
    },
    {
      "cell_type": "code",
      "source": [
        "def weather_irrigation_agent(prompt):\n",
        "    system_prompt = \"You are an AI monitoring weather and irrigation. Suggest schedules and warnings based on user location.\"\n",
        "    return query_replicate(f\"{system_prompt}\\n\\nUser: {prompt}\")\n"
      ],
      "metadata": {
        "id": "qzxosLug9y1q"
      },
      "execution_count": 6,
      "outputs": []
    },
    {
      "cell_type": "markdown",
      "source": [
        "c. Pest and Disease Detection Agent"
      ],
      "metadata": {
        "id": "w-Qf9dnE91Th"
      }
    },
    {
      "cell_type": "code",
      "source": [
        "def pest_disease_agent(prompt):\n",
        "    system_prompt = \"You are an AI assistant specializing in crop pests and diseases. Provide quick diagnosis and treatment suggestions based on farm observations.\"\n",
        "    return query_replicate(f\"{system_prompt}\\n\\nUser: {prompt}\")\n"
      ],
      "metadata": {
        "id": "CWTxuFUv907S"
      },
      "execution_count": 7,
      "outputs": []
    },
    {
      "cell_type": "markdown",
      "source": [
        "6. Routing User Queries"
      ],
      "metadata": {
        "id": "4UBPZ9FR-DTM"
      }
    },
    {
      "cell_type": "code",
      "source": [
        "def smart_farming_router(user_prompt):\n",
        "    crop_keywords = [\"crop\", \"plant\", \"harvest\", \"yield\", \"seed\"]\n",
        "    weather_keywords = [\"weather\", \"rain\", \"temperature\", \"irrigation\", \"moisture\", \"water\"]\n",
        "    pest_keywords = [\"pest\", \"disease\", \"fungus\", \"insect\", \"infestation\"]\n",
        "\n",
        "    prompt_lower = user_prompt.lower()\n",
        "\n",
        "    if any(word in prompt_lower for word in crop_keywords):\n",
        "        return crop_advisor_agent(user_prompt)\n",
        "    elif any(word in prompt_lower for word in weather_keywords):\n",
        "        return weather_irrigation_agent(user_prompt)\n",
        "    elif any(word in prompt_lower for word in pest_keywords):\n",
        "        return pest_disease_agent(user_prompt)\n",
        "    else:\n",
        "        return \"🌱 Please specify if you want crop advice, weather/irrigation help, or pest/disease diagnosis.\"\n"
      ],
      "metadata": {
        "id": "3tiNW84Z92Gb"
      },
      "execution_count": 8,
      "outputs": []
    },
    {
      "cell_type": "markdown",
      "source": [
        "7. Gradio App Interface"
      ],
      "metadata": {
        "id": "ju0_XFWYFsgC"
      }
    },
    {
      "cell_type": "code",
      "source": [
        "import gradio as gr\n",
        "\n",
        "def gradio_interface(user_prompt):\n",
        "    return smart_farming_router(user_prompt)\n",
        "\n",
        "app = gr.Interface(\n",
        "    fn=gradio_interface,\n",
        "    inputs=gr.Textbox(lines=2, label=\"Ask about crops, weather, or pests…\"),\n",
        "    outputs=gr.Textbox(label=\"Smart Farming AI Response\"),\n",
        "    title=\"Smart Farming AI Agent\",\n",
        "    description=\"This AI agent gives smart advice on crops, weather/irrigation, and pest/disease management. Enter any farm-related question!\"\n",
        ")\n",
        "\n",
        "app.launch()\n"
      ],
      "metadata": {
        "colab": {
          "base_uri": "https://localhost:8080/",
          "height": 646
        },
        "id": "VO5kZy3uF4UN",
        "outputId": "6d3c1ef9-7b33-479c-bedb-b61807a68e80"
      },
      "execution_count": 9,
      "outputs": [
        {
          "output_type": "stream",
          "name": "stdout",
          "text": [
            "It looks like you are running Gradio on a hosted Jupyter notebook, which requires `share=True`. Automatically setting `share=True` (you can turn this off by setting `share=False` in `launch()` explicitly).\n",
            "\n",
            "Colab notebook detected. To show errors in colab notebook, set debug=True in launch()\n",
            "* Running on public URL: https://ce5209c4ce154c4cb9.gradio.live\n",
            "\n",
            "This share link expires in 1 week. For free permanent hosting and GPU upgrades, run `gradio deploy` from the terminal in the working directory to deploy to Hugging Face Spaces (https://huggingface.co/spaces)\n"
          ]
        },
        {
          "output_type": "display_data",
          "data": {
            "text/plain": [
              "<IPython.core.display.HTML object>"
            ],
            "text/html": [
              "<div><iframe src=\"https://ce5209c4ce154c4cb9.gradio.live\" width=\"100%\" height=\"500\" allow=\"autoplay; camera; microphone; clipboard-read; clipboard-write;\" frameborder=\"0\" allowfullscreen></iframe></div>"
            ]
          },
          "metadata": {}
        },
        {
          "output_type": "execute_result",
          "data": {
            "text/plain": []
          },
          "metadata": {},
          "execution_count": 9
        }
      ]
    }
  ]
}